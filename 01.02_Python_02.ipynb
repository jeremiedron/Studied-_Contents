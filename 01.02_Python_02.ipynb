{
 "cells": [
  {
   "cell_type": "markdown",
   "metadata": {},
   "source": [
    "Objectives:\n",
    "- Conditional (<tt>if/else</tt>) statements\n",
    "- <tt>for</tt> loops\n",
    "- <tt>while</tt> loops\n",
    "- functions"
   ]
  },
  {
   "cell_type": "markdown",
   "metadata": {
    "collapsed": true
   },
   "source": [
    "# Conditional"
   ]
  },
  {
   "cell_type": "markdown",
   "metadata": {},
   "source": [
    "A <tt>boolean</tt> variable stores <tt>True</tt> or <tt>False</tt>."
   ]
  },
  {
   "cell_type": "code",
   "execution_count": 1,
   "metadata": {},
   "outputs": [
    {
     "data": {
      "text/plain": [
       "bool"
      ]
     },
     "execution_count": 1,
     "metadata": {},
     "output_type": "execute_result"
    }
   ],
   "source": [
    "type(True)"
   ]
  },
  {
   "cell_type": "code",
   "execution_count": 2,
   "metadata": {},
   "outputs": [
    {
     "name": "stdout",
     "output_type": "stream",
     "text": [
      "x = True\n"
     ]
    }
   ],
   "source": [
    "x = (4>3)\n",
    "print(\"x = {0}\".format(x))"
   ]
  },
  {
   "cell_type": "code",
   "execution_count": 3,
   "metadata": {},
   "outputs": [
    {
     "name": "stdout",
     "output_type": "stream",
     "text": [
      "y = False\n"
     ]
    }
   ],
   "source": [
    "y = 2==4\n",
    "print(\"y = {0}\".format(y))"
   ]
  },
  {
   "cell_type": "code",
   "execution_count": 4,
   "metadata": {},
   "outputs": [
    {
     "data": {
      "text/plain": [
       "True"
      ]
     },
     "execution_count": 4,
     "metadata": {},
     "output_type": "execute_result"
    }
   ],
   "source": [
    "x or y"
   ]
  },
  {
   "cell_type": "code",
   "execution_count": 5,
   "metadata": {},
   "outputs": [
    {
     "data": {
      "text/plain": [
       "False"
      ]
     },
     "execution_count": 5,
     "metadata": {},
     "output_type": "execute_result"
    }
   ],
   "source": [
    "x and y"
   ]
  },
  {
   "cell_type": "code",
   "execution_count": 6,
   "metadata": {},
   "outputs": [
    {
     "data": {
      "text/plain": [
       "False"
      ]
     },
     "execution_count": 6,
     "metadata": {},
     "output_type": "execute_result"
    }
   ],
   "source": [
    "not x"
   ]
  },
  {
   "cell_type": "markdown",
   "metadata": {},
   "source": [
    "<tt>True</tt> and <tt>False</tt> behave like 1 and 0, respectively."
   ]
  },
  {
   "cell_type": "code",
   "execution_count": 7,
   "metadata": {},
   "outputs": [
    {
     "data": {
      "text/plain": [
       "1"
      ]
     },
     "execution_count": 7,
     "metadata": {},
     "output_type": "execute_result"
    }
   ],
   "source": [
    "x+y"
   ]
  },
  {
   "cell_type": "code",
   "execution_count": 8,
   "metadata": {},
   "outputs": [
    {
     "data": {
      "text/plain": [
       "0"
      ]
     },
     "execution_count": 8,
     "metadata": {},
     "output_type": "execute_result"
    }
   ],
   "source": [
    "x*y"
   ]
  },
  {
   "cell_type": "markdown",
   "metadata": {},
   "source": [
    "The example below shows the most basic sintax of a decision structure:"
   ]
  },
  {
   "cell_type": "code",
   "execution_count": 9,
   "metadata": {},
   "outputs": [
    {
     "name": "stdout",
     "output_type": "stream",
     "text": [
      "5 is greater than 4\n"
     ]
    }
   ],
   "source": [
    "x = 5\n",
    "y = 4\n",
    "t = x>y\n",
    "if t:\n",
    "    print(\"{0} is greater than {1}\".format(x, y))"
   ]
  },
  {
   "cell_type": "markdown",
   "metadata": {},
   "source": [
    "If the condition (or set of conditions) is satisfied, the indented code below is executed. Indentation in Python is made up of four simple spaces, and is used to determine the end of the structure. Python is very strict about indentation, and programmers should be too.\n",
    "\n",
    "Notice that something happens (code is execute) only if the condition is <tt>True</tt>. In some scenarios, one wants something to happen if the condition is <tt>False</tt>. The <tt>else</tt> clauses comes in handy in this case."
   ]
  },
  {
   "cell_type": "code",
   "execution_count": 10,
   "metadata": {},
   "outputs": [
    {
     "name": "stdout",
     "output_type": "stream",
     "text": [
      "4 is *NOT* greater than 5\n"
     ]
    }
   ],
   "source": [
    "x = 4\n",
    "y = 5\n",
    "if (x>y):\n",
    "    print(\"{0} is greater than {1}\".format(x, y))\n",
    "else:\n",
    "    print(\"{0} is *NOT* greater than {1}\".format(x, y))"
   ]
  },
  {
   "cell_type": "markdown",
   "metadata": {},
   "source": [
    "The <tt>elif</tt> allows to test multiple conditions."
   ]
  },
  {
   "cell_type": "code",
   "execution_count": 11,
   "metadata": {},
   "outputs": [
    {
     "name": "stdout",
     "output_type": "stream",
     "text": [
      "5 is greater than 4\n"
     ]
    }
   ],
   "source": [
    "x = 5\n",
    "y = 4\n",
    "if (x>y):\n",
    "    print(\"{0} is greater than {1}\".format(x, y))\n",
    "elif (x==y):\n",
    "    print(\"{0} is equal to {1}\".format(x, y))\n",
    "else:\n",
    "    print(\"{0} is smaller than {1}\".format(x, y))"
   ]
  },
  {
   "cell_type": "markdown",
   "metadata": {},
   "source": [
    "Python will execute the instruction *first* condition that is true."
   ]
  },
  {
   "cell_type": "code",
   "execution_count": 12,
   "metadata": {},
   "outputs": [
    {
     "name": "stdout",
     "output_type": "stream",
     "text": [
      "5 is greater than or equal to 5\n"
     ]
    }
   ],
   "source": [
    "x = 5\n",
    "y = 5\n",
    "if (x>=y):\n",
    "    print(\"{0} is greater than or equal to {1}\".format(x, y))\n",
    "elif (x==y):\n",
    "    print(\"{0} is equal to {1}\".format(x, y))\n",
    "else:\n",
    "    print(\"{0} is smaller than {1}\".format(x, y))"
   ]
  },
  {
   "cell_type": "code",
   "execution_count": 13,
   "metadata": {},
   "outputs": [],
   "source": [
    "colors = {0: 'green', 1: 'violet', 2: 'blue', 3: ' yellow'}"
   ]
  },
  {
   "cell_type": "code",
   "execution_count": 14,
   "metadata": {},
   "outputs": [
    {
     "name": "stdout",
     "output_type": "stream",
     "text": [
      "green\n"
     ]
    }
   ],
   "source": [
    "c = 0\n",
    "if c == 0:\n",
    "    print(colors[0])\n",
    "elif c == 0:\n",
    "    print(colors[1])\n",
    "elif c  == 2:\n",
    "    print(colors[2])\n",
    "elif c == 3:\n",
    "    print(colors[3])\n",
    "else:\n",
    "    print('I dont know.')"
   ]
  },
  {
   "cell_type": "markdown",
   "metadata": {},
   "source": [
    "<tt>if</tt> conditions can be nested within each other."
   ]
  },
  {
   "cell_type": "code",
   "execution_count": 15,
   "metadata": {},
   "outputs": [
    {
     "name": "stdout",
     "output_type": "stream",
     "text": [
      "7 is MUCH greater than 5\n"
     ]
    }
   ],
   "source": [
    "x = 7\n",
    "y = 5\n",
    "if (x>y):\n",
    "    if abs(x-y)<1:\n",
    "        print(\"{0} is greater than {1}\".format(x, y))\n",
    "    else:\n",
    "        print(\"{0} is MUCH greater than {1}\".format(x, y))\n",
    "elif (x==y):\n",
    "    print(\"{0} is equal to {1}\".format(x, y))\n",
    "else:\n",
    "    print(\"{0} is smaller than {1}\".format(x, y))"
   ]
  },
  {
   "cell_type": "markdown",
   "metadata": {},
   "source": [
    "# `for` loops"
   ]
  },
  {
   "cell_type": "markdown",
   "metadata": {},
   "source": [
    "Loops in Python, as in other programming languages, allows on to perform operations multiple times."
   ]
  },
  {
   "cell_type": "code",
   "execution_count": 16,
   "metadata": {},
   "outputs": [
    {
     "name": "stdout",
     "output_type": "stream",
     "text": [
      "[0, 1, 2, 3, 4, 5, 6, 7, 8, 9]\n"
     ]
    }
   ],
   "source": [
    "print(list(range(10)))"
   ]
  },
  {
   "cell_type": "code",
   "execution_count": 19,
   "metadata": {},
   "outputs": [
    {
     "name": "stdout",
     "output_type": "stream",
     "text": [
      "55\n",
      "1+2+3+...+10 = 55\n"
     ]
    }
   ],
   "source": [
    "# sum of the first 10 whole numbers\n",
    "\n",
    "gauss = 0 # the scalar 'gauss' will store the value of the running sum\n",
    "parcelas = [] # the list parcelas will store the value of the running sum at each step\n",
    "\n",
    "for i in range(11):\n",
    "\n",
    "    gauss += i\n",
    "print(gauss)\n",
    "    \n",
    "print(\"1+2+3+...+10 = \" + str(gauss))"
   ]
  },
  {
   "cell_type": "code",
   "execution_count": 28,
   "metadata": {},
   "outputs": [
    {
     "name": "stdout",
     "output_type": "stream",
     "text": [
      "0: Macro\n",
      "---\n",
      "1: Micro\n",
      "---\n",
      "2: Econometria\n",
      "---\n",
      "3: 537\n",
      "---\n"
     ]
    }
   ],
   "source": [
    "# parsing a list\n",
    "l = [\"Macro\", \"Micro\", \"Econometria\", 537]\n",
    "for i, v in enumerate(l):\n",
    "    # the index at each step is assigned to 'i' \n",
    "    # the value at each stpe is assigned to 'v'\n",
    "    # both 'i' and 'v' are local, and cannot be accessed outside of the loop\n",
    "    print(\"{0}: {1}\".format(i, v))\n",
    "    print(\"---\")"
   ]
  },
  {
   "cell_type": "code",
   "execution_count": 24,
   "metadata": {},
   "outputs": [
    {
     "name": "stdout",
     "output_type": "stream",
     "text": [
      "Macro\n",
      "Micro\n",
      "Econometria\n",
      "537\n"
     ]
    }
   ],
   "source": [
    "# if you want to access only the values\n",
    "for v in l:\n",
    "    print(v)"
   ]
  },
  {
   "cell_type": "code",
   "execution_count": 31,
   "metadata": {},
   "outputs": [
    {
     "name": "stdout",
     "output_type": "stream",
     "text": [
      "Macro: 20 alunos\n",
      "Econometria: 40 alunos\n",
      "Micro: 25 alunos\n"
     ]
    }
   ],
   "source": [
    "# parsing a list\n",
    "d = { \"Macro\": [\"eae302\",20], \"Micro\": [\"eae301\",25], \"Econometria\": [\"eae303\",40] }\n",
    "for key, value in d.items():\n",
    "    print(\"{0}: {1} alunos\".format(key, value[1]))"
   ]
  },
  {
   "cell_type": "code",
   "execution_count": 33,
   "metadata": {},
   "outputs": [
    {
     "name": "stdout",
     "output_type": "stream",
     "text": [
      "B\n",
      "a\n",
      "r\n",
      "c\n",
      "e\n",
      "l\n",
      "o\n",
      "n\n",
      "a\n"
     ]
    }
   ],
   "source": [
    "# parsing a string\n",
    "s = \"Barcelona\"\n",
    "for x in s:\n",
    "    print(x)"
   ]
  },
  {
   "cell_type": "markdown",
   "metadata": {},
   "source": [
    "# <tt>while</tt> loops"
   ]
  },
  {
   "cell_type": "markdown",
   "metadata": {},
   "source": [
    "Similar to <tt>for</tt>. Executes a chunck of code until a certain condition is met."
   ]
  },
  {
   "cell_type": "code",
   "execution_count": 34,
   "metadata": {},
   "outputs": [
    {
     "name": "stdout",
     "output_type": "stream",
     "text": [
      "5050\n"
     ]
    }
   ],
   "source": [
    "gauss = 0\n",
    "i = 1\n",
    "\n",
    "while i<=100:\n",
    "    gauss += i\n",
    "    i += 1\n",
    "\n",
    "print(gauss)"
   ]
  },
  {
   "cell_type": "markdown",
   "metadata": {
    "collapsed": true
   },
   "source": [
    "We know that $lim_{n\\rightarrow +\\infty} \\sum_{i=1}^{n}{\\frac{1}{i}} = +\\infty$. That means that for any positive real $S$, one can find an integer $n$ such that $\\sum_{i=1}^{n}{\\frac{1}{i}} > n$. In the code below, we will find one such $n$ for $S=10$."
   ]
  },
  {
   "cell_type": "code",
   "execution_count": 1,
   "metadata": {},
   "outputs": [
    {
     "name": "stdout",
     "output_type": "stream",
     "text": [
      "n = 1835422\n"
     ]
    }
   ],
   "source": [
    "S = 15 # target value for the sum\n",
    "s = 0 # variable that will store the value of the running (partial) sum\n",
    "i = 1\n",
    "\n",
    "while (s<S):\n",
    "    s += 1/i\n",
    "    i += 1\n",
    "        \n",
    "print(\"n = {0}\".format(i))"
   ]
  },
  {
   "cell_type": "markdown",
   "metadata": {},
   "source": [
    "# Functions"
   ]
  },
  {
   "cell_type": "markdown",
   "metadata": {},
   "source": [
    "*Functions* are chuncks of code that perform certain actions. They are extremely useful if an operation must be repeated throughout the code. In other words, functions are a straighforward way to reuse code."
   ]
  },
  {
   "cell_type": "code",
   "execution_count": 2,
   "metadata": {},
   "outputs": [],
   "source": [
    "# Example 1 (trivial): a function that takes as arguments two real numbers and returns their sum\n",
    "def my_sum(x, y):\n",
    "    return x+y"
   ]
  },
  {
   "cell_type": "code",
   "execution_count": 3,
   "metadata": {},
   "outputs": [
    {
     "name": "stdout",
     "output_type": "stream",
     "text": [
      "3\n"
     ]
    }
   ],
   "source": [
    "# testing my_sum\n",
    "print(my_sum(2, 1))"
   ]
  },
  {
   "cell_type": "code",
   "execution_count": 4,
   "metadata": {},
   "outputs": [],
   "source": [
    "# Example 2: improving my_sum\n",
    "def my_sum(x, y=0):\n",
    "    \"\"\"\n",
    "    my_sum(x, y=0): takes two integers (x and y) and returns their sum\n",
    "    \"\"\"\n",
    "    \n",
    "    if isinstance(x, (int, float)) and isinstance(y, (int, float)):\n",
    "        return (x+y, \"{0} + {1} = {2}\".format(x, y, x+y))"
   ]
  },
  {
   "cell_type": "code",
   "execution_count": 7,
   "metadata": {},
   "outputs": [
    {
     "name": "stdout",
     "output_type": "stream",
     "text": [
      "(3, '1 + 2 = 3')\n"
     ]
    }
   ],
   "source": [
    "# testing my_sum\n",
    "s = my_sum(1, 2)\n",
    "print(my_sum(1,2))"
   ]
  },
  {
   "cell_type": "code",
   "execution_count": 6,
   "metadata": {},
   "outputs": [
    {
     "data": {
      "text/plain": [
       "'1 + 2 = 3'"
      ]
     },
     "execution_count": 6,
     "metadata": {},
     "output_type": "execute_result"
    }
   ],
   "source": [
    "s[1]"
   ]
  },
  {
   "cell_type": "code",
   "execution_count": 52,
   "metadata": {},
   "outputs": [],
   "source": [
    "# Example 3: sum of infinite series (see problem above)\n",
    "def limit(S):\n",
    "\n",
    "    s = 0\n",
    "    i = 0\n",
    "\n",
    "    while (s<S):\n",
    "        i += 1\n",
    "        s += 1/i\n",
    "       \n",
    "    return i"
   ]
  },
  {
   "cell_type": "code",
   "execution_count": 54,
   "metadata": {},
   "outputs": [
    {
     "name": "stdout",
     "output_type": "stream",
     "text": [
      "11\n",
      "83\n",
      "13562027\n"
     ]
    }
   ],
   "source": [
    "print(limit(3))\n",
    "print(limit(5))\n",
    "print(limit(17))"
   ]
  },
  {
   "cell_type": "code",
   "execution_count": 23,
   "metadata": {},
   "outputs": [
    {
     "name": "stdout",
     "output_type": "stream",
     "text": [
      "16\n"
     ]
    }
   ],
   "source": [
    "# Example 4: evaluating a polynomial\n",
    "def p(x, coef):\n",
    "    return sum([c * x**i for i, c in enumerate(coef)])\n",
    "    \n",
    "print(p(2,(2,1,3)))"
   ]
  },
  {
   "cell_type": "code",
   "execution_count": 56,
   "metadata": {},
   "outputs": [],
   "source": [
    "coef = (2, 1, 3)\n",
    "x = 2"
   ]
  },
  {
   "cell_type": "code",
   "execution_count": 60,
   "metadata": {},
   "outputs": [
    {
     "data": {
      "text/plain": [
       "[2, 2, 12]"
      ]
     },
     "execution_count": 60,
     "metadata": {},
     "output_type": "execute_result"
    }
   ],
   "source": [
    "parcelas = [jp*(x**i) for i, jp in enumerate(coef)]\n",
    "parcelas"
   ]
  },
  {
   "cell_type": "code",
   "execution_count": 61,
   "metadata": {},
   "outputs": [
    {
     "data": {
      "text/plain": [
       "16"
      ]
     },
     "execution_count": 61,
     "metadata": {},
     "output_type": "execute_result"
    }
   ],
   "source": [
    "sum(parcelas)"
   ]
  },
  {
   "cell_type": "markdown",
   "metadata": {},
   "source": [
    "n! = n * (n-1)!, if n > 1 and f(1) = 1 "
   ]
  },
  {
   "cell_type": "code",
   "execution_count": 34,
   "metadata": {},
   "outputs": [],
   "source": [
    "# Example 5: Recursion\n",
    "def factorial(n):\n",
    "    if n == 1:\n",
    "        return 1\n",
    "    else:\n",
    "        return n * factorial(n-1)"
   ]
  },
  {
   "cell_type": "code",
   "execution_count": 29,
   "metadata": {},
   "outputs": [
    {
     "data": {
      "text/plain": [
       "24"
      ]
     },
     "execution_count": 29,
     "metadata": {},
     "output_type": "execute_result"
    }
   ],
   "source": [
    "factorial(4)"
   ]
  },
  {
   "cell_type": "markdown",
   "metadata": {},
   "source": [
    "https://realpython.com/python-thinking-recursively/"
   ]
  },
  {
   "cell_type": "markdown",
   "metadata": {},
   "source": [
    "## Practice"
   ]
  },
  {
   "cell_type": "markdown",
   "metadata": {},
   "source": [
    "** 1. ** From the column of Marcelo Viana (IMPA) in the Folha de São Paulo on 08/12/2018: <br>\n",
    "* It works like this: consider any positive integer N. If it is even, divide by 2. If it is odd, multiply by 3 and add 1. Replace N with the result obtained and continue repeating this procedure. For example, if you start with N = 7 you will successively get 22, 11, 34, 17, 52, 26, 13, 40, 20, 10, 5, 16, 8, 4, 2, 1 and, the sequence only repeats the numbers 4, 2, 1, cyclically. *"
   ]
  },
  {
   "cell_type": "code",
   "execution_count": 1,
   "metadata": {},
   "outputs": [],
   "source": [
    "def par(x):\n",
    "    if (x%2 == 0):\n",
    "        return True\n",
    "    else:\n",
    "        return False"
   ]
  },
  {
   "cell_type": "code",
   "execution_count": 7,
   "metadata": {},
   "outputs": [],
   "source": [
    "def Marcelo_Viana(x):\n",
    "    c = 0\n",
    "    while x != 1:\n",
    "        if par(x):\n",
    "            x = x/2\n",
    "        else:\n",
    "            x = 3*x+1\n",
    "        c += 1\n",
    "    \n",
    "    return c"
   ]
  },
  {
   "cell_type": "code",
   "execution_count": 8,
   "metadata": {},
   "outputs": [
    {
     "name": "stdout",
     "output_type": "stream",
     "text": [
      "1: 0\n",
      "2: 1\n",
      "3: 7\n",
      "4: 2\n",
      "5: 5\n",
      "6: 8\n",
      "7: 16\n",
      "8: 3\n",
      "9: 19\n",
      "10: 6\n",
      "11: 14\n",
      "12: 9\n",
      "13: 9\n",
      "14: 17\n"
     ]
    }
   ],
   "source": [
    "for x in range(1, 15):\n",
    "    print(\"{0}: {1}\".format(x, Marcelo_Viana(x)))"
   ]
  },
  {
   "cell_type": "markdown",
   "metadata": {},
   "source": [
    "**2.** Write a Python program to find those numbers which are divisible by 7 and multiple of 5, between 1500 and 2700 (both included)."
   ]
  },
  {
   "cell_type": "code",
   "execution_count": 9,
   "metadata": {},
   "outputs": [
    {
     "name": "stdout",
     "output_type": "stream",
     "text": [
      "1505\n",
      "1540\n",
      "1575\n",
      "1610\n",
      "1645\n",
      "1680\n",
      "1715\n",
      "1750\n",
      "1785\n",
      "1820\n",
      "1855\n",
      "1890\n",
      "1925\n",
      "1960\n",
      "1995\n",
      "2030\n",
      "2065\n",
      "2100\n",
      "2135\n",
      "2170\n",
      "2205\n",
      "2240\n",
      "2275\n",
      "2310\n",
      "2345\n",
      "2380\n",
      "2415\n",
      "2450\n",
      "2485\n",
      "2520\n",
      "2555\n",
      "2590\n",
      "2625\n",
      "2660\n",
      "2695\n"
     ]
    }
   ],
   "source": [
    "def div7(x):\n",
    "    if (x%7 == 0):\n",
    "        return True\n",
    "    else:\n",
    "        return False\n",
    "    \n",
    "def div5(x):\n",
    "    if (x%5 == 0):\n",
    "        return True\n",
    "    else:\n",
    "        return False\n",
    "\n",
    "J = []\n",
    "for x in range(1500, 2700+1):\n",
    "    if div7(x) and div5(x):\n",
    "        print(x)\n",
    "        J.append(x)"
   ]
  },
  {
   "cell_type": "markdown",
   "metadata": {},
   "source": [
    "**3.** Write a Python program to check a triangle is equilateral, isosceles or scalene."
   ]
  },
  {
   "cell_type": "markdown",
   "metadata": {},
   "source": [
    "**4.** Write a Python program to find the median of three values."
   ]
  },
  {
   "cell_type": "code",
   "execution_count": 13,
   "metadata": {},
   "outputs": [],
   "source": [
    "def mediana(x, y, z):\n",
    "    l = [x, y, z]\n",
    "    l.sort()\n",
    "    return l[1]"
   ]
  },
  {
   "cell_type": "code",
   "execution_count": 18,
   "metadata": {},
   "outputs": [
    {
     "data": {
      "text/plain": [
       "2"
      ]
     },
     "execution_count": 18,
     "metadata": {},
     "output_type": "execute_result"
    }
   ],
   "source": [
    "mediana(3, 1, 2)"
   ]
  },
  {
   "cell_type": "markdown",
   "metadata": {},
   "source": [
    "**5.** Write a Python program to calculate the sum and average of n integer numbers (input from the user). Input 0 to finish."
   ]
  },
  {
   "cell_type": "code",
   "execution_count": 28,
   "metadata": {},
   "outputs": [],
   "source": [
    "def sumario():\n",
    "    \n",
    "    n = int(input(\"digite um número natural: \"))\n",
    "\n",
    "    s = 0\n",
    "    for i in range(n):\n",
    "        x = float(input(\"digite um número: \"))\n",
    "        s += x\n",
    "        \n",
    "    return (s, s/n)"
   ]
  },
  {
   "cell_type": "code",
   "execution_count": 27,
   "metadata": {},
   "outputs": [
    {
     "name": "stdout",
     "output_type": "stream",
     "text": [
      "digite um número natural: 3\n",
      "digite um número: 5\n",
      "digite um número: 2.5\n",
      "digite um número: 1.5\n"
     ]
    },
    {
     "data": {
      "text/plain": [
       "(9.0, 3.0)"
      ]
     },
     "execution_count": 27,
     "metadata": {},
     "output_type": "execute_result"
    }
   ],
   "source": [
    "sumario()"
   ]
  },
  {
   "cell_type": "markdown",
   "metadata": {},
   "source": [
    "**6.** Write a Python program to construct the following pattern, using a nested loop number: <br>\n",
    "1 <br>\n",
    "22 <br>\n",
    "333 <br>\n",
    "4444 <br>\n",
    "55555 <br>\n",
    "666666 <br>\n",
    "7777777 <br>\n",
    "88888888 <br>\n",
    "999999999"
   ]
  },
  {
   "cell_type": "code",
   "execution_count": 30,
   "metadata": {},
   "outputs": [
    {
     "name": "stdout",
     "output_type": "stream",
     "text": [
      "1\n",
      "22\n",
      "333\n",
      "4444\n",
      "55555\n",
      "666666\n",
      "7777777\n",
      "88888888\n",
      "999999999\n"
     ]
    }
   ],
   "source": [
    "# Jeito errado\n",
    "for i in range(1, 10):\n",
    "    print(str(i)*i)"
   ]
  },
  {
   "cell_type": "code",
   "execution_count": 36,
   "metadata": {},
   "outputs": [
    {
     "name": "stdout",
     "output_type": "stream",
     "text": [
      "1\n",
      "22\n",
      "333\n",
      "4444\n",
      "55555\n",
      "666666\n",
      "7777777\n",
      "88888888\n",
      "999999999\n"
     ]
    }
   ],
   "source": [
    "# Jeito certo\n",
    "for i in range(1, 10):\n",
    "    for j in range(i):\n",
    "        print(i, end=\"\")\n",
    "    print(\"\\n\", end=\"\")"
   ]
  },
  {
   "cell_type": "markdown",
   "metadata": {},
   "source": [
    "**7.** Write a Python program to check the validity of password input by users. <br><br>\n",
    "Validation : <br><br>\n",
    "\n",
    "At least 1 letter between [a-z] and 1 letter between [A-Z]. <br>\n",
    "At least 1 number between [0-9]. <br>\n",
    "At least 1 character from [$#@]. <br>\n",
    "Minimum length 6 characters. <br>\n",
    "Maximum length 16 characters."
   ]
  },
  {
   "cell_type": "code",
   "execution_count": 51,
   "metadata": {},
   "outputs": [],
   "source": [
    "# At least 1 character from [$#@]. \n",
    "def cond_0(s):\n",
    "    r = {\"$\", \"#\", \"@\"}\n",
    "    if r.intersection(set(s)) == set():\n",
    "        return False\n",
    "    else:\n",
    "        return True"
   ]
  },
  {
   "cell_type": "code",
   "execution_count": 57,
   "metadata": {},
   "outputs": [],
   "source": [
    "# Minimum length 6 characters & Maximum length 16 characters.\n",
    "def cond_1(s):\n",
    "    if len(s) >= 6 and len(s) <= 16:\n",
    "        return True\n",
    "    else:\n",
    "        return False"
   ]
  },
  {
   "cell_type": "code",
   "execution_count": 3,
   "metadata": {},
   "outputs": [],
   "source": [
    "# At least 1 letter between [a-z] and 1 letter between [A-Z]. \n",
    "def cond_2(s):\n",
    "    if s.lower() == s:\n",
    "        return False\n",
    "    elif s.upper() == s:\n",
    "        return False\n",
    "    else:\n",
    "        return True"
   ]
  },
  {
   "cell_type": "code",
   "execution_count": 19,
   "metadata": {},
   "outputs": [],
   "source": [
    "# At least 1 number between [0-9]\n",
    "def cond_3(s):\n",
    "    for i in range(0, 10):\n",
    "        if str(i) in s:\n",
    "            return True\n",
    "    return False"
   ]
  },
  {
   "cell_type": "code",
   "execution_count": 23,
   "metadata": {},
   "outputs": [],
   "source": [
    "def password(s):\n",
    "    if cond_0(s) and cond_1(s) and cond_2(s) and cond_3(s):\n",
    "        return True\n",
    "    else:\n",
    "        return False"
   ]
  }
 ],
 "metadata": {
  "hide_input": false,
  "kernelspec": {
   "display_name": "Python 3",
   "language": "python",
   "name": "python3"
  },
  "language_info": {
   "codemirror_mode": {
    "name": "ipython",
    "version": 3
   },
   "file_extension": ".py",
   "mimetype": "text/x-python",
   "name": "python",
   "nbconvert_exporter": "python",
   "pygments_lexer": "ipython3",
   "version": "3.6.8"
  },
  "toc": {
   "base_numbering": 1,
   "nav_menu": {},
   "number_sections": true,
   "sideBar": true,
   "skip_h1_title": false,
   "title_cell": "Table of Contents",
   "title_sidebar": "Contents",
   "toc_cell": false,
   "toc_position": {},
   "toc_section_display": true,
   "toc_window_display": false
  },
  "varInspector": {
   "cols": {
    "lenName": 16,
    "lenType": 16,
    "lenVar": 40
   },
   "kernels_config": {
    "python": {
     "delete_cmd_postfix": "",
     "delete_cmd_prefix": "del ",
     "library": "var_list.py",
     "varRefreshCmd": "print(var_dic_list())"
    },
    "r": {
     "delete_cmd_postfix": ") ",
     "delete_cmd_prefix": "rm(",
     "library": "var_list.r",
     "varRefreshCmd": "cat(var_dic_list()) "
    }
   },
   "types_to_exclude": [
    "module",
    "function",
    "builtin_function_or_method",
    "instance",
    "_Feature"
   ],
   "window_display": false
  }
 },
 "nbformat": 4,
 "nbformat_minor": 2
}
